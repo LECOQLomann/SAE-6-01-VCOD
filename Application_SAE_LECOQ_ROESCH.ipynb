{
 "cells": [
  {
   "cell_type": "code",
   "execution_count": null,
   "id": "0c9d0793-6477-4509-a9a8-54147d104a6d",
   "metadata": {},
   "outputs": [],
   "source": [
    "\"\"\"\n",
    "📝 **Instructions** :\n",
    "- Installez toutes les bibliothèques nécessaires en fonction des imports présents dans le code, utilisez la commande suivante :conda create -n projet python pandas numpy ..........\n",
    "- Complétez les sections en écrivant votre code où c’est indiqué.\n",
    "- Ajoutez des commentaires clairs pour expliquer vos choix.\n",
    "- Utilisez des emoji avec windows + ;\n",
    "- Interprétez les résultats de vos visualisations (quelques phrases).\n",
    "\"\"\""
   ]
  },
  {
   "cell_type": "code",
   "execution_count": null,
   "id": "a015482d-5b46-49f1-9e6f-dd85294fb80d",
   "metadata": {},
   "outputs": [],
   "source": [
    "### 1. Importation des librairies et chargement des données\n",
    "import os\n",
    "import pandas as pd\n",
    "import numpy as np\n",
    "import matplotlib.pyplot as plt\n",
    "import seaborn as sns\n",
    "import streamlit as st\n",
    "import plotly.express as px"
   ]
  },
  {
   "cell_type": "code",
   "execution_count": null,
   "id": "7f0bad0c-4da9-45fb-b2cc-5eab87c9af10",
   "metadata": {},
   "outputs": [],
   "source": [
    "# Chargement des données\n",
    "#df = pd.read_csv(\"........ds_salaries.csv\")\n",
    "\n",
    "df = pd.read_csv(\"C:\\projet_notebook\\ds_salaries.csv\")  # Charger un fichier CSV dans un DataFrame\n"
   ]
  },
  {
   "cell_type": "code",
   "execution_count": null,
   "id": "cf5d8662-0832-49f8-9065-3c30a74cf57c",
   "metadata": {},
   "outputs": [],
   "source": [
    "### 2. Exploration visuelle des données\n",
    "#votre code \n",
    "st.title(\"📊 Visualisation des Salaires en Data Science\")\n",
    "st.markdown(\"Explorez les tendances des salaires à travers différentes visualisations interactives.\")\n",
    "\n",
    "\n",
    "if st.checkbox(\"Afficher un aperçu des données\"):\n",
    "    #st.write(df.....)\n",
    "\n",
    "\n",
    "#Statistique générales avec describe pandas \n",
    "#votre code \n",
    "st.subheader(\"📌 Statistiques générales\")"
   ]
  },
  {
   "cell_type": "code",
   "execution_count": null,
   "id": "c545d8c8-1907-45cb-a470-295763719e7f",
   "metadata": {},
   "outputs": [],
   "source": [
    "### 3. Distribution des salaires en France par rôle et niveau d'expérience, uilisant px.box et st.plotly_chart\n",
    "#votre code \n",
    "st.subheader(\"📈 Distribution des salaires en France\")\n"
   ]
  },
  {
   "cell_type": "code",
   "execution_count": null,
   "id": "b8a69b0d-afce-46f0-bf6b-d129a93c4627",
   "metadata": {},
   "outputs": [],
   "source": [
    "### 4. Analyse des tendances de salaires :\n",
    "#### Salaire moyen par catégorie : en choisisant une des : ['experience_level', 'employment_type', 'job_title', 'company_location'], utilisant px.bar et st.selectbox \n",
    "\n"
   ]
  },
  {
   "cell_type": "code",
   "execution_count": null,
   "id": "1dca0907-2887-4f5b-9366-843e7b4abe51",
   "metadata": {},
   "outputs": [],
   "source": [
    "### 5. Corrélation entre variables\n",
    "# Sélectionner uniquement les colonnes numériques pour la corrélation\n",
    "#votre code "
   ]
  },
  {
   "cell_type": "markdown",
   "id": "32e952b7-6420-48b3-99f1-7c510fba6d12",
   "metadata": {},
   "source": [
    "\n",
    "# Calcul de la matrice de corrélation\n",
    "#votre code\n",
    "\n",
    "\n",
    "# Affichage du heatmap avec sns.heatmap\n",
    "#votre code \n",
    "st.subheader(\"🔗 Corrélations entre variables numériques\")\n",
    "\n",
    "\n",
    "\n",
    "\n",
    "### 6. Analyse interactive des variations de salaire\n",
    "# Une évolution des salaires pour les 10 postes les plus courants\n",
    "# count of job titles pour selectionner les postes\n",
    "# calcule du salaire moyen par an\n",
    "#utilisez px.line\n",
    "#votre code \n",
    "\n",
    "\n",
    "\n",
    "\n",
    "\n",
    "### 7. Salaire médian par expérience et taille d'entreprise\n",
    "# utilisez median(), px.bar\n",
    "#votre code \n",
    "\n",
    "\n",
    "\n",
    "\n",
    "### 8. Ajout de filtres dynamiques\n",
    "#Filtrer les données par salaire utilisant st.slider pour selectionner les plages \n",
    "#votre code \n",
    "\n",
    "\n",
    "\n",
    "\n",
    "### 9.  Impact du télétravail sur le salaire selon le pays\n",
    "\n",
    "\n",
    "\n",
    "\n",
    "### 10. Filtrage avancé des données avec deux st.multiselect, un qui indique \"Sélectionnez le niveau d'expérience\" et l'autre \"Sélectionnez la taille d'entreprise\"\n",
    "#votre code \n",
    "\n"
   ]
  }
 ],
 "metadata": {
  "kernelspec": {
   "display_name": "Python 3 (ipykernel)",
   "language": "python",
   "name": "python3"
  },
  "language_info": {
   "codemirror_mode": {
    "name": "ipython",
    "version": 3
   },
   "file_extension": ".py",
   "mimetype": "text/x-python",
   "name": "python",
   "nbconvert_exporter": "python",
   "pygments_lexer": "ipython3",
   "version": "3.11.7"
  }
 },
 "nbformat": 4,
 "nbformat_minor": 5
}
