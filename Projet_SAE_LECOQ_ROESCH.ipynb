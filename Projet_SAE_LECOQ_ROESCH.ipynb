{
 "cells": [
  {
   "cell_type": "code",
   "execution_count": 1,
   "id": "c662a3d4",
   "metadata": {
    "scrolled": true
   },
   "outputs": [
    {
     "name": "stderr",
     "output_type": "stream",
     "text": [
      "C:\\Users\\e2203009\\AppData\\local\\Temp\\ipykernel_1692\\568132765.py:2: DeprecationWarning: Importing display from IPython.core.display is deprecated since IPython 7.14, please import from IPython display\n",
      "  from IPython.core.display import display, HTML\n"
     ]
    },
    {
     "data": {
      "text/html": [
       "<style>.container { width:80% !important; }</style>"
      ],
      "text/plain": [
       "<IPython.core.display.HTML object>"
      ]
     },
     "metadata": {},
     "output_type": "display_data"
    }
   ],
   "source": [
    "# pour changer la largeur de la page htlm générée par Jupyter :\n",
    "from IPython.core.display import display, HTML\n",
    "display(HTML(\"<style>.container { width:80% !important; }</style>\"))"
   ]
  },
  {
   "cell_type": "markdown",
   "id": "3b59d1e1-36ba-4fbe-8b19-0b5641ba9ec6",
   "metadata": {},
   "source": [
    "# URL Git Hub\n",
    "\n",
    "https://github.com/LECOQLomann/SAE-6-01-VCOD"
   ]
  },
  {
   "cell_type": "markdown",
   "id": "f6eff43d",
   "metadata": {},
   "source": [
    "# TP : Exploration et Analyse de Données avec Pandas et Streamlit\n",
    "\n",
    "## Objectif\n",
    "\n",
    "Ce projet vise à développer vos compétences en manipulation et analyse de données à l'aide de la bibliothèque Pandas en Python. Vous apprendrez à :\n",
    "\n",
    "- Importer et explorer des données provenant de Kaggle.\n",
    "- Effectuer des requêtes et manipulations de type SQL avec Pandas.\n",
    "- Créer des visualisations interactives avec Streamlit.\n",
    "\n",
    "Ce projet est noté. Tous les codes devront être écrits en Python dans des champs *jupyter* et devront respecter les conventions de nommage. L'énoncé **ne doit pas être modifié**.\n",
    "\n",
    "La derniere séance du projet, vous déposerez le fichier jupyter (projetSAE.ipynb) sur la plateforme pédagogique.\n"
   ]
  },
  {
   "cell_type": "markdown",
   "id": "3109e372",
   "metadata": {},
   "source": [
    "##### Procédure à réaliser avant les séances de TD (nous utiliserons désormais jupyter lab)\n",
    "- Lancer Anaconda Prompt sous Windows\n",
    "- Saisissez dans Anaconda Prompt : \n",
    "conda create -n projet python pandas numpy matplotlib jupyterlab kagglehub seaborn streamlit plotly\n",
    "\n",
    "=> à la demande \"Proceed ([y]/n)?\" saisissez y (ou juste pressez sur la touche \"entrée\")\n",
    "=> \"Executing transaction\" prend du temps, c'est normal\n",
    "Saisissez dans Anaconda Prompt : \n",
    "conda activate projet\n",
    "\n",
    "##### Saisissez dans Anaconda Prompt : \n",
    "jupyter lab --notebook-dir=\"h:/\"\n",
    "Ouvrir projetSAE.ipynb dans Jupyter"
   ]
  },
  {
   "cell_type": "code",
   "execution_count": 14,
   "id": "5a1b3f02",
   "metadata": {},
   "outputs": [],
   "source": [
    "%matplotlib notebook\n",
    "%matplotlib inline\n",
    "\n",
    "import os\n",
    "import shutil\n",
    "import pandas as pd\n",
    "import numpy as np\n",
    "import matplotlib.pyplot as plt\n",
    "\n",
    "import seaborn as sns\n",
    "import streamlit as st\n"
   ]
  },
  {
   "cell_type": "markdown",
   "id": "d57dab67",
   "metadata": {},
   "source": [
    "### Partie 1 : importation et exploration des données"
   ]
  },
  {
   "cell_type": "markdown",
   "id": "33235b70",
   "metadata": {},
   "source": [
    "#### Travailler avec Git\n",
    "1 - En utilisant le prompt conda : initialiser le projet \n",
    "\n",
    "2 - Ajouter le fichier Jupyter Notebook et faite votre premier commit \n",
    " \n",
    "3 -  Creer un projet sur github dépôt distant (sans README.md )\n",
    "\n",
    "4 - Pousser le projet vers ce dépôt \n",
    "\n",
    "5 - Enlever les checkpoint de jupyter "
   ]
  },
  {
   "cell_type": "markdown",
   "id": "8b18bb17",
   "metadata": {},
   "source": [
    "#### Questions\n",
    "1. Téléchargez le Dataset **Data Science Salaries 2023** sur Kaggle (https://www.kaggle.com/datasets/) via **kagglehub**.\n",
    "2. Copier le fichier du cache au répertoire du projet, décompresser et visualiser le fichier CSV **ds_salaries.csv**\n",
    "3. Importez le fichiers CSV avec Pandas."
   ]
  },
  {
   "cell_type": "markdown",
   "id": "b01f9ad7",
   "metadata": {},
   "source": [
    "##### Votre code"
   ]
  },
  {
   "cell_type": "code",
   "execution_count": 2,
   "id": "b81cdc79",
   "metadata": {},
   "outputs": [
    {
     "name": "stderr",
     "output_type": "stream",
     "text": [
      "C:\\Users\\e2203009\\.conda\\envs\\projet\\Lib\\site-packages\\tqdm\\auto.py:21: TqdmWarning: IProgress not found. Please update jupyter and ipywidgets. See https://ipywidgets.readthedocs.io/en/stable/user_install.html\n",
      "  from .autonotebook import tqdm as notebook_tqdm\n"
     ]
    },
    {
     "name": "stdout",
     "output_type": "stream",
     "text": [
      "Warning: Looks like you're using an outdated `kagglehub` version, please consider updating (latest version: 0.3.6)\n",
      "Downloading from https://www.kaggle.com/api/v1/datasets/download/arnabchaki/data-science-salaries-2023?dataset_version_number=1...\n"
     ]
    },
    {
     "name": "stderr",
     "output_type": "stream",
     "text": [
      "100%|██████████████████████████████████████████████████████████████████████████████████████████████████████████████████████████████████████████████████████████████████████████████████████████████████| 25.4k/25.4k [00:00<00:00, 8.64MB/s]"
     ]
    },
    {
     "name": "stdout",
     "output_type": "stream",
     "text": [
      "Extracting model files...\n",
      "Path to dataset files: C:\\Users\\e2203009\\.cache\\kagglehub\\datasets\\arnabchaki\\data-science-salaries-2023\\versions\\1\n"
     ]
    },
    {
     "name": "stderr",
     "output_type": "stream",
     "text": [
      "\n"
     ]
    }
   ],
   "source": [
    "import kagglehub\n",
    "\n",
    "# Download latest version\n",
    "path = kagglehub.dataset_download(\"arnabchaki/data-science-salaries-2023\")\n",
    "\n",
    "print(\"Path to dataset files:\", path)"
   ]
  },
  {
   "cell_type": "markdown",
   "id": "a3c026f0",
   "metadata": {},
   "source": [
    "##### Une bonne pratique \n",
    "- Copier les données téléchargées et les coller dans le répertoire du projet.\n",
    "Pour cela, utilisez la bibliothéque os et shutil"
   ]
  },
  {
   "cell_type": "code",
   "execution_count": 3,
   "id": "ff8da337",
   "metadata": {},
   "outputs": [
    {
     "name": "stdout",
     "output_type": "stream",
     "text": [
      "Fichier copié avec succès !\n"
     ]
    }
   ],
   "source": [
    "import os\n",
    "import shutil\n",
    "\n",
    "# Répertoire cible dans votre projet\n",
    "project_dir = r\"H:\\cours\\SAE 6-01-VCOD\\projet_notebook\"\n",
    "\n",
    "# Créer le répertoire (s'il n'existe pas)\n",
    "os.makedirs(project_dir, exist_ok=True)\n",
    "\n",
    "# Chemin du fichier source dans le cache KaggleHub\n",
    "cache_file = r\"C:\\Users\\e2203009\\.cache\\kagglehub\\datasets\\arnabchaki\\data-science-salaries-2023\\versions\\1\\ds_salaries.csv\"\n",
    "\n",
    "# Copier le fichier vers le répertoire du projet\n",
    "shutil.copy(cache_file, project_dir)\n",
    "\n",
    "print(\"Fichier copié avec succès !\")\n"
   ]
  },
  {
   "cell_type": "code",
   "execution_count": 6,
   "id": "c150ef82",
   "metadata": {},
   "outputs": [
    {
     "name": "stdout",
     "output_type": "stream",
     "text": [
      "   work_year experience_level employment_type                 job_title  \\\n",
      "0       2023               SE              FT  Principal Data Scientist   \n",
      "1       2023               MI              CT               ML Engineer   \n",
      "2       2023               MI              CT               ML Engineer   \n",
      "3       2023               SE              FT            Data Scientist   \n",
      "4       2023               SE              FT            Data Scientist   \n",
      "\n",
      "   salary salary_currency  salary_in_usd employee_residence  remote_ratio  \\\n",
      "0   80000             EUR          85847                 ES           100   \n",
      "1   30000             USD          30000                 US           100   \n",
      "2   25500             USD          25500                 US           100   \n",
      "3  175000             USD         175000                 CA           100   \n",
      "4  120000             USD         120000                 CA           100   \n",
      "\n",
      "  company_location company_size  \n",
      "0               ES            L  \n",
      "1               US            S  \n",
      "2               US            S  \n",
      "3               CA            M  \n",
      "4               CA            M  \n"
     ]
    }
   ],
   "source": [
    "# Lire le fichier depuis le répertoire du projet\n",
    "import pandas as pd\n",
    "\n",
    "# Chemin du fichier CSV\n",
    "csv_file = r\"H:\\cours\\SAE 6-01-VCOD\\projet_notebook\\ds_salaries.csv\"\n",
    "\n",
    "# Charger le fichier CSV dans un DataFrame\n",
    "df = pd.read_csv(csv_file)\n",
    "\n",
    "# Afficher les premières lignes du fichier\n",
    "print(df.head())\n",
    "\n",
    "\n",
    "# Commentaire du dictionnaire de données :\n",
    "\n",
    "# work_year: The year the salary was paid.\n",
    "# experience_level: The experience level in the job during the year\n",
    "# employment_type: The type of employment for the role\n",
    "# job_title: The role worked in during the year.\n",
    "# salary: The total gross salary amount paid.\n",
    "# salary_currency: The currency of the salary paid as an ISO 4217 currency code.\n",
    "# salaryinusd: The salary in USD\n",
    "# employee_residence: Employee's primary country of residence in during the work year as an ISO 3166 country code.\n",
    "# remote_ratio: The overall amount of work done remotely\n",
    "# company_location: The country of the employer's main office or contracting branch\n",
    "# company_size: The median number of people that worked for the company during the year\n"
   ]
  },
  {
   "cell_type": "markdown",
   "id": "6beae70c",
   "metadata": {},
   "source": [
    "### Partie 2 : Analyses exploratoires"
   ]
  },
  {
   "cell_type": "markdown",
   "id": "2e561960",
   "metadata": {},
   "source": [
    "#### Question 1 :\n",
    "Nous Souhaitons :\n",
    "\n",
    "1. Connaitre est ce qu'il y a des données manquantes dans notre dataset.\n",
    "2. Voir la distribution des salaires en USD avec la bibliothèque seaborn sous fome d'histogramme\n",
    "3. avoir la liste des pays concerné par l'étude \n",
    "4. connaitre les salaire moyen par rôle, par pays, par niveau d'expérience"
   ]
  },
  {
   "cell_type": "markdown",
   "id": "e3d1bfbe",
   "metadata": {},
   "source": [
    "#### Votre code"
   ]
  },
  {
   "cell_type": "code",
   "execution_count": 9,
   "id": "d25ef4a6",
   "metadata": {},
   "outputs": [
    {
     "name": "stdout",
     "output_type": "stream",
     "text": [
      "work_year             0\n",
      "experience_level      0\n",
      "employment_type       0\n",
      "job_title             0\n",
      "salary                0\n",
      "salary_currency       0\n",
      "salary_in_usd         0\n",
      "employee_residence    0\n",
      "remote_ratio          0\n",
      "company_location      0\n",
      "company_size          0\n",
      "dtype: int64\n"
     ]
    }
   ],
   "source": [
    "#données manquantes \n",
    "print(df.isna().sum())"
   ]
  },
  {
   "cell_type": "code",
   "execution_count": 104,
   "id": "1be28b55",
   "metadata": {},
   "outputs": [
    {
     "data": {
      "image/png": "[encoded data removed]",
      "text/plain": [
       "<Figure size 640x480 with 1 Axes>"
      ]
     },
     "metadata": {},
     "output_type": "display_data"
    },
    {
     "name": "stdout",
     "output_type": "stream",
     "text": [
      "On constate un salaire moyen qui semble s'élever à 150 000$. Il y a également de bas salaire, cela correspond surement à des catégories de contrat particulières, comme le Freelance ou le Part-Time. Il y a également de très hauts salaire, on voit qu'il sont peu nombreux mais qu'ils peuvent s'élever très haut. On voit que cela s'étale entre 320 000$ et 460 000$.\n"
     ]
    }
   ],
   "source": [
    "# Distribution des salaires en USD\n",
    "\n",
    "# %matplotlib inline \n",
    "\n",
    "sns.histplot(data=df, x='salary_in_usd', kde=True)  # kde=True pour la courbe de densité\n",
    "plt.title('Distribution des salaires en USD')\n",
    "plt.xlabel('Salaires en USD')\n",
    "plt.ylabel('Fréquence')\n",
    "plt.grid(True)\n",
    "plt.show()\n",
    "\n",
    "print(\"On constate un salaire moyen qui semble s'élever à 150 000$. Il y a également de bas salaire, cela correspond surement à des catégories de contrat particulières, comme le Freelance ou le Part-Time. Il y a également de très hauts salaire, on voit qu'il sont peu nombreux mais qu'ils peuvent s'élever très haut. On voit que cela s'étale entre 320 000$ et 460 000$.\")"
   ]
  },
  {
   "cell_type": "code",
   "execution_count": 107,
   "id": "59ab1534",
   "metadata": {},
   "outputs": [
    {
     "name": "stdout",
     "output_type": "stream",
     "text": [
      "['ES' 'US' 'CA' 'DE' 'GB' 'NG' 'IN' 'HK' 'NL' 'CH' 'CF' 'FR' 'FI' 'UA'\n",
      " 'IE' 'IL' 'GH' 'CO' 'SG' 'AU' 'SE' 'SI' 'MX' 'BR' 'PT' 'RU' 'TH' 'HR'\n",
      " 'VN' 'EE' 'AM' 'BA' 'KE' 'GR' 'MK' 'LV' 'RO' 'PK' 'IT' 'MA' 'PL' 'AL'\n",
      " 'AR' 'LT' 'AS' 'CR' 'IR' 'BS' 'HU' 'AT' 'SK' 'CZ' 'TR' 'PR' 'DK' 'BO'\n",
      " 'PH' 'BE' 'ID' 'EG' 'AE' 'LU' 'MY' 'HN' 'JP' 'DZ' 'IQ' 'CN' 'NZ' 'CL'\n",
      " 'MD' 'MT']\n",
      "Cette liste représente un éventail de pays de différents continents, incluant des nations d'Europe, d'Asie, d'Amérique, d'Afrique, et d'Océanie, illustrant une diversité géographique et culturelle.\n"
     ]
    }
   ],
   "source": [
    "# liste des pays concerné par l'étude \n",
    "\n",
    "print(df['company_location'].unique())\n",
    "print(\"Cette liste représente un éventail de pays de différents continents, incluant des nations d'Europe, d'Asie, d'Amérique, d'Afrique, et d'Océanie, illustrant une diversité géographique et culturelle.\")"
   ]
  },
  {
   "cell_type": "code",
   "execution_count": 113,
   "id": "fa1ccca8",
   "metadata": {},
   "outputs": [
    {
     "name": "stdout",
     "output_type": "stream",
     "text": [
      "                          salary_in_usd\n",
      "job_title                              \n",
      "Data Science Tech Lead       375000.000\n",
      "Cloud Data Architect         250000.000\n",
      "Data Lead                    212500.000\n",
      "Data Analytics Lead          211254.500\n",
      "Principal Data Scientist     198171.125\n",
      "\n",
      "Ce top 5 des jobs les mieux rémunérés montre que le titre 'Lead' semble assurer un salaire confortable. On constate également que tous ces métiers contiennent le mot 'Data', ce qui n'est pas étonnant étant donné le sujet de l'analyse. Le métier de Data Science Tech Lead a un salaire moyen 50% supérieur au deuxième salaire le plus élevé, ce qui est impresionnant.\n",
      "                    salary_in_usd\n",
      "employee_residence               \n",
      "IL                  423834.000000\n",
      "MY                  200000.000000\n",
      "PR                  166000.000000\n",
      "US                  152822.011651\n",
      "CA                  132222.905882\n",
      "...                           ...\n",
      "MD                   18000.000000\n",
      "ID                   15000.000000\n",
      "SK                   12608.000000\n",
      "MA                   10000.000000\n",
      "MK                    6304.000000\n",
      "\n",
      "[78 rows x 1 columns]\n",
      "\n",
      "Les salaires varient considérablement selon le niveau de développement économique des pays, avec des salaires élevés en Israël, aux États-Unis et au Canada, tandis que des pays comme la Moldavie, l'Indonésie et le Maroc présentent des salaires plus bas, souvent en raison de coûts de vie plus abordables. Les disparités reflètent les secteurs dominants, la productivité et les conditions économiques locales.\n",
      "                  salary_in_usd\n",
      "experience_level               \n",
      "EX                194930.929825\n",
      "SE                153051.071542\n",
      "MI                104525.939130\n",
      "EN                 78546.284375\n",
      " \n",
      "Les salaires augmentent considérablement avec le niveau d'expérience, les experts et seniors gagnant bien plus que les profils de niveau intermédiaire et débutant, ce qui est typique dans les industries où l'expertise technique et la gestion de projets complexes sont valorisées. Quand on y réfléchit cela tombe sous le sens.\n"
     ]
    }
   ],
   "source": [
    "#Salaire moyen par rôle\n",
    "res1 = df[['job_title','salary_in_usd']].groupby('job_title').mean()\n",
    "res1 = res1.sort_values(['salary_in_usd'], ascending=False).head()\n",
    "print(res1)\n",
    "print(\"\\nCe top 5 des jobs les mieux rémunérés montre que le titre 'Lead' semble assurer un salaire confortable. On constate également que tous ces métiers contiennent le mot 'Data', ce qui n'est pas étonnant étant donné le sujet de l'analyse. Le métier de Data Science Tech Lead a un salaire moyen 50% supérieur au deuxième salaire le plus élevé, ce qui est impresionnant.\") \n",
    "\n",
    "# Salaire moyen par pays\n",
    "res2 = df[['employee_residence','salary_in_usd']].groupby('employee_residence').mean()\n",
    "res2 = res2.sort_values(['salary_in_usd'], ascending=False)\n",
    "print(res2)\n",
    "print(\"\\nLes salaires varient considérablement selon le niveau de développement économique des pays, avec des salaires élevés en Israël, aux États-Unis et au Canada, tandis que des pays comme la Moldavie, l'Indonésie et le Maroc présentent des salaires plus bas, souvent en raison de coûts de vie plus abordables. Les disparités reflètent les secteurs dominants, la productivité et les conditions économiques locales.\")\n",
    "\n",
    "# Salaires moyens par niveau d'expérience\n",
    "res3 = df[['experience_level','salary_in_usd']].groupby('experience_level').mean()\n",
    "res3 = res3.sort_values(['salary_in_usd'], ascending=False)\n",
    "print(res3)\n",
    "print(\" \\nLes salaires augmentent considérablement avec le niveau d'expérience, les experts et seniors gagnant bien plus que les profils de niveau intermédiaire et débutant, ce qui est typique dans les industries où l'expertise technique et la gestion de projets complexes sont valorisées. Quand on y réfléchit cela tombe sous le sens.\")\n"
   ]
  },
  {
   "cell_type": "markdown",
   "id": "5fed3aef",
   "metadata": {},
   "source": [
    "#### Question 2 :\n",
    "Nous Souhaitons :\n",
    "\n",
    "1. Filtrer les salaires pour un pays donné (ex : US)\n",
    "2. Connaitre les top 5 des entreprises qui paient le plus\n",
    "\n",
    "3. Filtrage et agrégation:\n",
    "    - Afficher tous les employés dont le salaire est supérieur à 100 000 USD, ainsi que leur rôle.\n",
    "    - Pays avec la plus forte proportion de télétravail (remote_ratio = 100)\n",
    "       \n",
    "4. Requêtes conditionnelles: \n",
    "    - Salaire moyen des employés à distance (100%)\n",
    "    - Comparer salaires moyens pour deux catégories\n",
    "        \n",
    "5. Ajouter une colonne pour les fourchettes de salaires\n",
    "6. Corrélations : Relation entre télétravail et salaire: \n",
    " -\n",
    "7. Salaire moyen par taille d'entreprise \n",
    "8. faire un tableau croisé : Moyenne des salaires par niveau d'expérience et télétravail"
   ]
  },
  {
   "cell_type": "code",
   "execution_count": 118,
   "id": "057e12e8",
   "metadata": {},
   "outputs": [
    {
     "name": "stdout",
     "output_type": "stream",
     "text": [
      "      work_year experience_level employment_type  \\\n",
      "3522       2020               MI              FT   \n",
      "3747       2021               MI              FT   \n",
      "3675       2021               EX              CT   \n",
      "3750       2020               SE              FT   \n",
      "3463       2022               SE              FT   \n",
      "...         ...              ...             ...   \n",
      "1          2023               MI              CT   \n",
      "2          2023               MI              CT   \n",
      "3387       2022               SE              FT   \n",
      "3042       2022               MI              FT   \n",
      "3043       2022               MI              FT   \n",
      "\n",
      "                               job_title  salary salary_currency  \\\n",
      "3522                  Research Scientist  450000             USD   \n",
      "3747  Applied Machine Learning Scientist  423000             USD   \n",
      "3675            Principal Data Scientist  416000             USD   \n",
      "3750                      Data Scientist  412000             USD   \n",
      "3463                 Data Analytics Lead  405000             USD   \n",
      "...                                  ...     ...             ...   \n",
      "1                            ML Engineer   30000             USD   \n",
      "2                            ML Engineer   25500             USD   \n",
      "3387                       Data Engineer   25000             USD   \n",
      "3042                       Data Engineer   24000             USD   \n",
      "3043                       Data Engineer   24000             USD   \n",
      "\n",
      "      salary_in_usd employee_residence  remote_ratio company_location  \\\n",
      "3522         450000                 US             0               US   \n",
      "3747         423000                 US            50               US   \n",
      "3675         416000                 US           100               US   \n",
      "3750         412000                 US           100               US   \n",
      "3463         405000                 US           100               US   \n",
      "...             ...                ...           ...              ...   \n",
      "1             30000                 US           100               US   \n",
      "2             25500                 US           100               US   \n",
      "3387          25000                 US           100               US   \n",
      "3042          24000                 US             0               US   \n",
      "3043          24000                 US             0               US   \n",
      "\n",
      "     company_size  \n",
      "3522            M  \n",
      "3747            L  \n",
      "3675            S  \n",
      "3750            L  \n",
      "3463            L  \n",
      "...           ...  \n",
      "1               S  \n",
      "2               S  \n",
      "3387            M  \n",
      "3042            M  \n",
      "3043            M  \n",
      "\n",
      "[3004 rows x 11 columns]\n",
      "Ici nous voyons les plus hauts salaires aux états-unis, avec tous les informations du type catégorie de contrat, job...\n"
     ]
    }
   ],
   "source": [
    "# Filtrer les salaires pour un pays donné (ex : US)\n",
    "res4 = df.query(\"employee_residence == 'US'\")\n",
    "res4 = res4.sort_values('salary_in_usd', ascending=False)\n",
    "print(res4)\n",
    "print(\"Ici nous voyons les plus hauts salaires aux états-unis, avec tous les informations du type catégorie de contrat, job...\")"
   ]
  },
  {
   "cell_type": "code",
   "execution_count": 121,
   "id": "6be2ec47",
   "metadata": {},
   "outputs": [
    {
     "name": "stdout",
     "output_type": "stream",
     "text": [
      "                  salary_in_usd\n",
      "company_location               \n",
      "IL                271446.500000\n",
      "PR                167500.000000\n",
      "US                151822.009539\n",
      "RU                140333.333333\n",
      "CA                131917.689655\n",
      "Nous voyosn ici que les 5 pays qui paient le mieux leurs employés dans ce secteur sont Israel, Porto Rico, USA, Russie et Canada\n",
      "              salary_in_usd\n",
      "company_size               \n",
      "M             143130.548367\n",
      "L             118300.982379\n",
      "S              78226.682432\n",
      " \n",
      "Les entreprise de taille moyenne sont celles avec le salaire moyen le plus élevé, ce qui est étonnant, nous aurioons pu penser que ce serait les grandes entreprises. les écarts de salaires sont conséquents, et il y a la même différence entre chaque catégorie.\n"
     ]
    }
   ],
   "source": [
    "# Top 5 des entreprises qui paient le plus par pays\n",
    "res5 = df[['company_location','salary_in_usd']].groupby('company_location').mean()\n",
    "res5 = res5.sort_values(['salary_in_usd'], ascending=False).head()\n",
    "print(res5)\n",
    "print(\"Nous voyosn ici que les 5 pays qui paient le mieux leurs employés dans ce secteur sont Israel, Porto Rico, USA, Russie et Canada\")\n",
    "\n",
    "# Top 5 des entreprises qui paient le plus par taille d'entreprise\n",
    "res5 = df[['company_size','salary_in_usd']].groupby('company_size').mean()\n",
    "res5 = res5.sort_values(['salary_in_usd'], ascending=False).head()\n",
    "print(res5)\n",
    "print(\" \\nLes entreprise de taille moyenne sont celles avec le salaire moyen le plus élevé, ce qui est étonnant, nous aurioons pu penser que ce serait les grandes entreprises. les écarts de salaires sont conséquents, et il y a la même différence entre chaque catégorie.\")"
   ]
  },
  {
   "cell_type": "code",
   "execution_count": 134,
   "id": "10d4d3d4",
   "metadata": {},
   "outputs": [
    {
     "name": "stdout",
     "output_type": "stream",
     "text": [
      "Rôles avec un salaire moyen > 100,000 USD :\n",
      "                                          salary_in_usd\n",
      "job_title                                              \n",
      "AI Developer                              136666.090909\n",
      "AI Scientist                              110120.875000\n",
      "Analytics Engineer                        152368.631068\n",
      "Applied Data Scientist                    113726.300000\n",
      "Applied Machine Learning Scientist        109452.833333\n",
      "Applied Scientist                         190264.482759\n",
      "BI Analyst                                104888.888889\n",
      "BI Developer                              129846.153846\n",
      "Big Data Architect                        125802.500000\n",
      "Business Intelligence Engineer            174150.000000\n",
      "Cloud Data Architect                      250000.000000\n",
      "Cloud Database Engineer                   155000.000000\n",
      "Computer Vision Engineer                  143536.111111\n",
      "Data Analyst                              108716.227124\n",
      "Data Analytics Lead                       211254.500000\n",
      "Data Analytics Manager                    141879.090909\n",
      "Data Architect                            161713.772277\n",
      "Data Engineer                             142785.734615\n",
      "Data Infrastructure Engineer              175051.666667\n",
      "Data Lead                                 212500.000000\n",
      "Data Manager                              116613.344828\n",
      "Data Modeler                              118900.000000\n",
      "Data Science Lead                         156334.375000\n",
      "Data Science Manager                      191278.775862\n",
      "Data Science Tech Lead                    375000.000000\n",
      "Data Scientist                            140869.765476\n",
      "Data Scientist Lead                       136153.000000\n",
      "Data Specialist                           119642.857143\n",
      "Deep Learning Engineer                    109241.000000\n",
      "Deep Learning Researcher                  123405.000000\n",
      "Director of Data Science                  195140.727273\n",
      "ETL Developer                             131453.600000\n",
      "Financial Data Analyst                    101666.666667\n",
      "Head of Data                              183857.500000\n",
      "Head of Data Science                      160591.666667\n",
      "Lead Data Engineer                        139230.333333\n",
      "Lead Data Scientist                       112775.555556\n",
      "ML Engineer                               158352.441176\n",
      "MLOps Engineer                            129000.000000\n",
      "Machine Learning Engineer                 154690.726644\n",
      "Machine Learning Infrastructure Engineer  143011.818182\n",
      "Machine Learning Manager                  155701.333333\n",
      "Machine Learning Researcher               105872.666667\n",
      "Machine Learning Scientist                163220.076923\n",
      "Machine Learning Software Engineer        192420.000000\n",
      "Manager Data Management                   125000.000000\n",
      "Marketing Data Analyst                    144327.000000\n",
      "NLP Engineer                              132785.285714\n",
      "Principal Data Analyst                    122500.000000\n",
      "Principal Data Engineer                   192500.000000\n",
      "Principal Data Scientist                  198171.125000\n",
      "Principal Machine Learning Engineer       190000.000000\n",
      "Research Engineer                         163108.378378\n",
      "Research Scientist                        161214.195122\n",
      "Staff Data Scientist                      105000.000000\n",
      "Il y a de nombreux jobs dont le salaire moyen est supérieur à 100 000$\n",
      "   employee_residence  count\n",
      "50                 US   1302\n",
      "20                 GB     61\n",
      "8                  CA     45\n",
      "25                 IN     39\n",
      "18                 ES     25\n",
      "14                 DE     17\n",
      "7                  BR     16\n",
      "19                 FR     15\n",
      "21                 GR     12\n",
      "31                 MX      9\n",
      "39                 PT      8\n",
      "34                 NL      8\n",
      "1                  AR      6\n",
      "37                 PL      6\n",
      "3                  AU      6\n",
      "36                 PK      5\n",
      "33                 NG      5\n",
      "38                 PR      4\n",
      "24                 IE      3\n",
      "27                 IT      3\n",
      "44                 SI      3\n",
      "4                  BE      3\n",
      "35                 PH      2\n",
      "28                 JP      2\n",
      "41                 RU      2\n",
      "29                 KE      2\n",
      "43                 SG      2\n",
      "0                  AE      2\n",
      "52                 VN      2\n",
      "9                  CF      2\n",
      "11                 CL      2\n",
      "10                 CH      2\n",
      "6                  BO      2\n",
      "42                 SE      1\n",
      "51                 UZ      1\n",
      "2                  AT      1\n",
      "49                 UA      1\n",
      "48                 TR      1\n",
      "47                 TN      1\n",
      "46                 TH      1\n",
      "45                 SK      1\n",
      "5                  BG      1\n",
      "23                 HU      1\n",
      "30                 LU      1\n",
      "40                 RS      1\n",
      "12                 CO      1\n",
      "13                 CZ      1\n",
      "15                 DO      1\n",
      "16                 EE      1\n",
      "17                 EG      1\n",
      "32                 MY      1\n",
      "22                 HR      1\n",
      "26                 IR      1\n",
      "Les etats-unis sont loins devant en terme de télétravail à 100%. Mais il faudrait une vraie proportion pour s'assurer que ce n'st pas simplement du au nombre d'observations aux USA compéré aux autres.\n",
      "                    remote_ratio\n",
      "employee_residence              \n",
      "RS                         100.0\n",
      "CF                         100.0\n",
      "KE                         100.0\n",
      "LU                         100.0\n",
      "MY                         100.0\n",
      "...                          ...\n",
      "LT                           0.0\n",
      "LV                           0.0\n",
      "HN                           0.0\n",
      "ID                           0.0\n",
      "MD                           0.0\n",
      "\n",
      "[78 rows x 1 columns]\n",
      "Cette analyse de taux de télétravail est bien plus pertinente : On voit le taux de télétravail moyen de chaque pays, et on voit les pays avec le taux moyen le plus élevé. Les USA ne sont plus seul en tête.\n"
     ]
    }
   ],
   "source": [
    "# Filtrer les données\n",
    "# Rôles avec un salaire moyen supérieur à 100,000\n",
    "res6 = df[['job_title','salary_in_usd']].groupby('job_title').mean()\n",
    "res6= res6[res6['salary_in_usd']>100000]\n",
    "res6 = res6.sort_values(['job_title'], ascending=True)\n",
    "print(\"Rôles avec un salaire moyen > 100,000 USD :\")\n",
    "print(res6)\n",
    "print(\"Il y a de nombreux jobs dont le salaire moyen est supérieur à 100 000$\")\n",
    "\n",
    "# Pays avec la plus forte proportion de télétravail (remote_ratio = 100)\n",
    "\n",
    "res7 = df[df['remote_ratio'] == 100]\n",
    "res7 = res7.groupby('employee_residence').size().reset_index(name='count')\n",
    "res7 = res7.sort_values(['count'], ascending=False)\n",
    "print(res7)\n",
    "print(\"Les etats-unis sont loins devant en terme de télétravail à 100%. Mais il faudrait une vraie proportion pour s'assurer que ce n'st pas simplement du au nombre d'observations aux USA compéré aux autres.\")\n",
    "\n",
    "#Version améliorée de l'analyse sur le télétravail\n",
    "res7b = df[['employee_residence','remote_ratio']].groupby('employee_residence').mean()\n",
    "res7b = res7b.sort_values(['remote_ratio'], ascending=False)\n",
    "print(res7b)\n",
    "print(\"Cette analyse de taux de télétravail est bien plus pertinente : On voit le taux de télétravail moyen de chaque pays, et on voit les pays avec le taux moyen le plus élevé. Les USA ne sont plus seul en tête.\")"
   ]
  },
  {
   "cell_type": "code",
   "execution_count": 124,
   "id": "3d3e19de",
   "metadata": {},
   "outputs": [
    {
     "name": "stdout",
     "output_type": "stream",
     "text": [
      "Salaire moyen des employés à distance :  136481.45 $\n",
      "Comparaison des salaires moyens par catégorie de contrat (FT = Full-Time ; CT = Contract ; FL = Freelance ; PT = Part-Time) :                  salary_in_usd\n",
      "employment_type               \n",
      "FT               138314.199570\n",
      "CT               113446.900000\n",
      "FL                51807.800000\n",
      "PT                39533.705882\n",
      "Les employés en full-time sont bien mieux payés que les autres, mais un freelancer ne fait pas des mois complets, un contractor non plus, et les pert-time ,non plus donc ces chiffres sont difficilement comparables. Il faudrait  un taux horaire pour comparer.\n"
     ]
    }
   ],
   "source": [
    "# Requêtes conditionnelles\n",
    "# Salaire moyen des employés à distance (100%)\n",
    "res8=df[df['remote_ratio'] == 100]\n",
    "res8=res8['salary_in_usd'].mean()\n",
    "print(\"Salaire moyen des employés à distance : \",round(res8,2),\"$\")\n",
    "\n",
    "# Comparer salaires moyens pour deux catégories\n",
    "df['employment_type'].unique()\n",
    "res9=df[['salary_in_usd','employment_type']].groupby('employment_type').mean()\n",
    "res9=res9.sort_values('salary_in_usd', ascending = False)\n",
    "print('Comparaison des salaires moyens par catégorie de contrat (FT = Full-Time ; CT = Contract ; FL = Freelance ; PT = Part-Time) :', res9)\n",
    "print(\"Les employés en full-time sont bien mieux payés que les autres, mais un freelancer ne fait pas des mois complets, un contractor non plus, et les pert-time ,non plus donc ces chiffres sont difficilement comparables. Il faudrait  un taux horaire pour comparer.\")\n",
    "\n"
   ]
  },
  {
   "cell_type": "code",
   "execution_count": 125,
   "id": "7d72271b",
   "metadata": {},
   "outputs": [
    {
     "name": "stdout",
     "output_type": "stream",
     "text": [
      "      work_year experience_level employment_type                 job_title  \\\n",
      "0          2023               SE              FT  Principal Data Scientist   \n",
      "1          2023               MI              CT               ML Engineer   \n",
      "2          2023               MI              CT               ML Engineer   \n",
      "3          2023               SE              FT            Data Scientist   \n",
      "4          2023               SE              FT            Data Scientist   \n",
      "...         ...              ...             ...                       ...   \n",
      "3750       2020               SE              FT            Data Scientist   \n",
      "3751       2021               MI              FT  Principal Data Scientist   \n",
      "3752       2020               EN              FT            Data Scientist   \n",
      "3753       2020               EN              CT     Business Data Analyst   \n",
      "3754       2021               SE              FT      Data Science Manager   \n",
      "\n",
      "       salary salary_currency  salary_in_usd employee_residence  remote_ratio  \\\n",
      "0       80000             EUR          85847                 ES           100   \n",
      "1       30000             USD          30000                 US           100   \n",
      "2       25500             USD          25500                 US           100   \n",
      "3      175000             USD         175000                 CA           100   \n",
      "4      120000             USD         120000                 CA           100   \n",
      "...       ...             ...            ...                ...           ...   \n",
      "3750   412000             USD         412000                 US           100   \n",
      "3751   151000             USD         151000                 US           100   \n",
      "3752   105000             USD         105000                 US           100   \n",
      "3753   100000             USD         100000                 US           100   \n",
      "3754  7000000             INR          94665                 IN            50   \n",
      "\n",
      "     company_location company_size salary_range  \n",
      "0                  ES            L     50k-100k  \n",
      "1                  US            S         <50k  \n",
      "2                  US            S         <50k  \n",
      "3                  CA            M        150k+  \n",
      "4                  CA            M    100k-150k  \n",
      "...               ...          ...          ...  \n",
      "3750               US            L        150k+  \n",
      "3751               US            L        150k+  \n",
      "3752               US            S    100k-150k  \n",
      "3753               US            L    100k-150k  \n",
      "3754               IN            L     50k-100k  \n",
      "\n",
      "[3755 rows x 12 columns]\n"
     ]
    }
   ],
   "source": [
    "# Ajouter une colonne pour les fourchettes de salaires\n",
    "\n",
    "def assign_salary_range(salary):\n",
    "    if salary < 50000:\n",
    "        return '<50k'\n",
    "    elif 50000 <= salary < 100000:\n",
    "        return '50k-100k'\n",
    "    elif 100000 <= salary < 150000:\n",
    "        return '100k-150k'\n",
    "    else:\n",
    "        return '150k+'\n",
    "\n",
    "df['salary_range'] = df['salary_in_usd'].apply(assign_salary_range)\n",
    "\n",
    "print(df)"
   ]
  },
  {
   "cell_type": "code",
   "execution_count": 130,
   "id": "08ebd32f",
   "metadata": {},
   "outputs": [
    {
     "name": "stdout",
     "output_type": "stream",
     "text": [
      "Corrélation entre télétravail (remote_ratio) et salaire : -0.06417098519057557\n",
      "Cela signifie qu'il n'y a pas ed corrélation, car -0.06 est une très faible corrélation négative. Il est très peu probable qu'il y ait un lien entre ces deux variables.\n"
     ]
    }
   ],
   "source": [
    "# Analyse des corrélations\n",
    "# Relation entre télétravail et salaire\n",
    "\n",
    "correlation = df['salary_in_usd'].corr(df['remote_ratio'])\n",
    "print(f\"Corrélation entre télétravail (remote_ratio) et salaire : {correlation}\")\n",
    "print(\"Cela signifie qu'il n'y a pas ed corrélation, car -0.06 est une très faible corrélation négative. Il est très peu probable qu'il y ait un lien entre ces deux variables.\")\n"
   ]
  },
  {
   "cell_type": "code",
   "execution_count": 131,
   "id": "a024d154",
   "metadata": {},
   "outputs": [
    {
     "name": "stdout",
     "output_type": "stream",
     "text": [
      "              salary_in_usd\n",
      "company_size               \n",
      "M             143130.548367\n",
      "L             118300.982379\n",
      "S              78226.682432\n",
      " \n",
      "Les entreprise de taille moyenne sont celles avec le salaire moyen le plus élevé, ce qui est étonnant, nous aurioons pu penser que ce serait les grandes entreprises. les écarts de salaires sont conséquents, et il y a la même différence entre chaque catégorie.\n"
     ]
    }
   ],
   "source": [
    "# Salaire moyen par taille d'entreprise \n",
    "\n",
    "res10 = df[['company_size','salary_in_usd']].groupby('company_size').mean()\n",
    "res10 = res10.sort_values(['salary_in_usd'], ascending=False)\n",
    "print(res10)\n",
    "print(\" \\nLes entreprise de taille moyenne sont celles avec le salaire moyen le plus élevé, ce qui est étonnant, nous aurioons pu penser que ce serait les grandes entreprises. les écarts de salaires sont conséquents, et il y a la même différence entre chaque catégorie.\")"
   ]
  },
  {
   "cell_type": "code",
   "execution_count": 129,
   "id": "b167d883",
   "metadata": {},
   "outputs": [
    {
     "name": "stdout",
     "output_type": "stream",
     "text": [
      "Tableau croisé des salaires : remote_ratio                0              50             100\n",
      "experience_level                                             \n",
      "EN                104581.765766   64006.230769   65040.486111\n",
      "EX                182435.785714  139030.166667  214837.326923\n",
      "MI                116723.103535   74214.405405   96803.480597\n",
      "SE                154024.064706   98438.136364  154022.023381\n"
     ]
    }
   ],
   "source": [
    "# Tableaux croisés\n",
    "# Moyenne des salaires par niveau d'expérience et télétravail\n",
    "\n",
    "pivot_table = df.pivot_table(\n",
    "    index='experience_level',   # Niveau d'expérience\n",
    "    columns='remote_ratio',      # Taux de télétravail\n",
    "    values='salary_in_usd',      # Salaire\n",
    "    aggfunc='mean'              # Moyenne des salaires\n",
    ")\n",
    "\n",
    "print(\"Tableau croisé des salaires :\", pivot_table)"
   ]
  },
  {
   "cell_type": "code",
   "execution_count": null,
   "id": "c2fbafd1-3cca-47e4-8ac1-011369475148",
   "metadata": {},
   "outputs": [],
   "source": []
  }
 ],
 "metadata": {
  "kernelspec": {
   "display_name": "Python 3 (ipykernel)",
   "language": "python",
   "name": "python3"
  },
  "language_info": {
   "codemirror_mode": {
    "name": "ipython",
    "version": 3
   },
   "file_extension": ".py",
   "mimetype": "text/x-python",
   "name": "python",
   "nbconvert_exporter": "python",
   "pygments_lexer": "ipython3",
   "version": "3.11.7"
  }
 },
 "nbformat": 4,
 "nbformat_minor": 5
}
