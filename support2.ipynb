{
 "cells": [
  {
   "cell_type": "markdown",
   "id": "f7e39ec0",
   "metadata": {},
   "source": [
    "Application avec streamlit :"
   ]
  },
  {
   "cell_type": "code",
   "execution_count": 13,
   "id": "7f862a18-8585-4fcd-a227-2ed8886773cc",
   "metadata": {},
   "outputs": [],
   "source": [
    "import streamlit as st\n",
    "import seaborn as sns\n",
    "import pandas as pd\n",
    "import matplotlib.pyplot as plt"
   ]
  },
  {
   "cell_type": "markdown",
   "id": "ab512a76",
   "metadata": {},
   "source": [
    "#### Pandas "
   ]
  },
  {
   "cell_type": "code",
   "execution_count": 22,
   "id": "276bd411",
   "metadata": {
    "vscode": {
     "languageId": "plaintext"
    }
   },
   "outputs": [
    {
     "name": "stdout",
     "output_type": "stream",
     "text": [
      "   work_year experience_level employment_type                 job_title  \\\n",
      "0       2023               SE              FT  Principal Data Scientist   \n",
      "1       2023               MI              CT               ML Engineer   \n",
      "2       2023               MI              CT               ML Engineer   \n",
      "3       2023               SE              FT            Data Scientist   \n",
      "4       2023               SE              FT            Data Scientist   \n",
      "\n",
      "   salary salary_currency  salary_in_usd employee_residence  remote_ratio  \\\n",
      "0   80000             EUR          85847                 ES           100   \n",
      "1   30000             USD          30000                 US           100   \n",
      "2   25500             USD          25500                 US           100   \n",
      "3  175000             USD         175000                 CA           100   \n",
      "4  120000             USD         120000                 CA           100   \n",
      "\n",
      "  company_location company_size  \n",
      "0               ES            L  \n",
      "1               US            S  \n",
      "2               US            S  \n",
      "3               CA            M  \n",
      "4               CA            M  \n",
      "         work_year        salary  salary_in_usd  remote_ratio\n",
      "count  3755.000000  3.755000e+03    3755.000000   3755.000000\n",
      "mean   2022.373635  1.906956e+05  137570.389880     46.271638\n",
      "std       0.691448  6.716765e+05   63055.625278     48.589050\n",
      "min    2020.000000  6.000000e+03    5132.000000      0.000000\n",
      "25%    2022.000000  1.000000e+05   95000.000000      0.000000\n",
      "50%    2022.000000  1.380000e+05  135000.000000      0.000000\n",
      "75%    2023.000000  1.800000e+05  175000.000000    100.000000\n",
      "max    2023.000000  3.040000e+07  450000.000000    100.000000\n",
      "employment_type\n",
      "CT    113446.900000\n",
      "FL     51807.800000\n",
      "FT    138314.199570\n",
      "PT     39533.705882\n",
      "Name: salary_in_usd, dtype: float64\n"
     ]
    }
   ],
   "source": [
    "df = pd.read_csv(\"C:\\projet_notebook\\ds_salaries.csv\")  # Charger un fichier CSV dans un DataFrame\n",
    "\n",
    "print(df.head())  # Affiche les 5 premières lignes du DataFrame\n",
    "\n",
    "print(df.describe())  #  Résumé statistique des colonnes numériques du DataFrame.\n",
    "\n",
    "print(df.groupby('employment_type')['salary_in_usd'].mean())  # Groupement de données par une ou plusieurs colonnes. Moyenne de 'autre_colonne' par 'colonne'\n"
   ]
  },
  {
   "cell_type": "markdown",
   "id": "7fb45247",
   "metadata": {},
   "source": [
    "#### Numpy "
   ]
  },
  {
   "cell_type": "code",
   "execution_count": 23,
   "id": "5fccfdbe",
   "metadata": {
    "vscode": {
     "languageId": "plaintext"
    }
   },
   "outputs": [
    {
     "ename": "NameError",
     "evalue": "name 'np' is not defined",
     "output_type": "error",
     "traceback": [
      "\u001b[1;31m---------------------------------------------------------------------------\u001b[0m",
      "\u001b[1;31mNameError\u001b[0m                                 Traceback (most recent call last)",
      "Cell \u001b[1;32mIn[23], line 1\u001b[0m\n\u001b[1;32m----> 1\u001b[0m numeric_df \u001b[38;5;241m=\u001b[39m df\u001b[38;5;241m.\u001b[39mselect_dtypes(include\u001b[38;5;241m=\u001b[39m[np\u001b[38;5;241m.\u001b[39mnumber])\n",
      "\u001b[1;31mNameError\u001b[0m: name 'np' is not defined"
     ]
    }
   ],
   "source": [
    "numeric_df = df.select_dtypes(include=[np.number])  # Sélectionner uniquement les colonnes numériques\n"
   ]
  },
  {
   "cell_type": "markdown",
   "id": "2867aef3",
   "metadata": {},
   "source": [
    "#### Matplotlib \n",
    "- (import matplotlib.pyplot as plt)\n",
    "- Utilité : matplotlib est une bibliothèque pour créer des visualisations statiques en Python."
   ]
  },
  {
   "cell_type": "code",
   "execution_count": null,
   "id": "b9313c83",
   "metadata": {
    "vscode": {
     "languageId": "plaintext"
    }
   },
   "outputs": [],
   "source": [
    "fig, ax = plt.subplots()  #  Crée une figure et un axe pour le graphique\n",
    "\n",
    "#Créer des graphiques simples en ligne.\n",
    "plt.plot(x, y)  # Tracer une courbe avec x et y\n",
    "\n",
    "plt.show()  # Affiche le graphique généré"
   ]
  },
  {
   "cell_type": "markdown",
   "id": "16602e33",
   "metadata": {},
   "source": [
    "#### Seaborn\n",
    "- (import seaborn as sns)\n",
    "- Utilité : seaborn est une bibliothèque de visualisation basée sur matplotlib qui permet de créer des visualisations plus esthétiques et de travailler plus facilement avec des DataFrames."
   ]
  },
  {
   "cell_type": "code",
   "execution_count": null,
   "id": "06797687",
   "metadata": {
    "vscode": {
     "languageId": "plaintext"
    }
   },
   "outputs": [],
   "source": [
    "#sns.heatmap() : Créer des cartes thermique\n",
    "\n",
    "sns.heatmap(correlation_matrix, annot=True, cmap='coolwarm')  # Créer une carte de chaleur pour visualiser la matrice de corrélation\n"
   ]
  },
  {
   "cell_type": "code",
   "execution_count": null,
   "id": "1e08fc21",
   "metadata": {
    "vscode": {
     "languageId": "plaintext"
    }
   },
   "outputs": [],
   "source": [
    "# sns.heatmap() : Créer des cartes thermiques.\n",
    "sns.boxplot(x='column1', y='column2', data=df)  # Créer un diagramme en boîte pour 'column2' selon 'column1'\n"
   ]
  },
  {
   "cell_type": "code",
   "execution_count": null,
   "id": "002c315e",
   "metadata": {
    "vscode": {
     "languageId": "plaintext"
    }
   },
   "outputs": [],
   "source": [
    "# sns.pairplot() : Créer une matrice de graphiques pour explorer les relations multivariées\n",
    "sns.pairplot(df)  # Créer un pairplot pour le DataFrame\n",
    "\n",
    "\n"
   ]
  },
  {
   "cell_type": "markdown",
   "id": "87143f01",
   "metadata": {},
   "source": [
    "#### Streamlit \n",
    "- (import streamlit as st)\n",
    "- Utilité : streamlit est une bibliothèque pour créer des applications web interactives facilement, principalement pour les projets de data science."
   ]
  },
  {
   "cell_type": "code",
   "execution_count": null,
   "id": "b566518b",
   "metadata": {
    "vscode": {
     "languageId": "plaintext"
    }
   },
   "outputs": [],
   "source": [
    "st.title('Mon Application de Visualisation')  # Affiche un titre\n",
    "st.write('Texte ou DataFrame à afficher')  # Affiche du texte ou un DataFrame\n",
    "st.checkbox(\"Afficher un aperçu des données\")  # Afficher une case à cocher pour l'interaction\n",
    "selected_option = st.selectbox('Choisir une option', options=['Option 1', 'Option 2'])\n",
    "st.plotly_chart(fig)  # Affiche un graphique interactif Plotly\n"
   ]
  },
  {
   "cell_type": "markdown",
   "id": "4823719d",
   "metadata": {},
   "source": [
    "#### Plotly \n",
    "- (import plotly.express as px)\n",
    "- Utilité : plotly est une bibliothèque de visualisation interactive qui permet de créer des graphiques interactifs complexes et riches."
   ]
  },
  {
   "cell_type": "code",
   "execution_count": null,
   "id": "e8f4a94e",
   "metadata": {
    "vscode": {
     "languageId": "plaintext"
    }
   },
   "outputs": [],
   "source": [
    "#px.box() : Créer un graphique en boîte interactif\n",
    "fig = px.box(df, x='job_title', y='salary_in_usd', color='experience_level')  # Créer un boxplot interactif\n",
    "\n",
    "#px.bar() : Créer un graphique en barres\n",
    "fig = px.bar(df, x='job_title', y='salary_in_usd', color='company_size')  # Créer un graphique à barres interactif\n",
    "\n",
    "\n"
   ]
  },
  {
   "cell_type": "markdown",
   "id": "4b6cbb19",
   "metadata": {},
   "source": []
  }
 ],
 "metadata": {
  "kernelspec": {
   "display_name": "Python 3 (ipykernel)",
   "language": "python",
   "name": "python3"
  },
  "language_info": {
   "codemirror_mode": {
    "name": "ipython",
    "version": 3
   },
   "file_extension": ".py",
   "mimetype": "text/x-python",
   "name": "python",
   "nbconvert_exporter": "python",
   "pygments_lexer": "ipython3",
   "version": "3.11.7"
  }
 },
 "nbformat": 4,
 "nbformat_minor": 5
}
